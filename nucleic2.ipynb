{
 "metadata": {
  "name": ""
 },
 "nbformat": 3,
 "nbformat_minor": 0,
 "worksheets": [
  {
   "cells": [
    {
     "cell_type": "heading",
     "level": 1,
     "metadata": {},
     "source": [
      "Nucleic acids 2: Gene Annotation"
     ]
    },
    {
     "cell_type": "heading",
     "level": 2,
     "metadata": {},
     "source": [
      "Introduction"
     ]
    },
    {
     "cell_type": "heading",
     "level": 2,
     "metadata": {},
     "source": [
      "Using BLAST within PyCogent"
     ]
    },
    {
     "cell_type": "markdown",
     "metadata": {},
     "source": [
      "In the last practical you assembled a genome from a set of 100bp reads.\n",
      "\n",
      "The objective of this practical is to locate and annotate the genes found on your assembly.\n",
      "\n",
      "We will work mostly with the longest contig from your assembly, which you should have saved in a separate FASTA file.\n",
      "\n",
      "You are encouraged to edit text, add additional cells and save the state of this workbook to keep a record of what you have done in this practical. You can include links, headings and code formatting in your text using [Markdown](https://github.com/adam-p/markdown-here/wiki/Markdown-Cheatsheet#wiki-headers) syntax."
     ]
    },
    {
     "cell_type": "code",
     "collapsed": false,
     "input": [],
     "language": "python",
     "metadata": {},
     "outputs": [
      {
       "ename": "NameError",
       "evalue": "name 'blastall' is not defined",
       "output_type": "pyerr",
       "traceback": [
        "\u001b[1;31m---------------------------------------------------------------------------\u001b[0m\n\u001b[1;31mNameError\u001b[0m                                 Traceback (most recent call last)",
        "\u001b[1;32m<ipython-input-1-4291a3a1acc5>\u001b[0m in \u001b[0;36m<module>\u001b[1;34m()\u001b[0m\n\u001b[1;32m----> 1\u001b[1;33m \u001b[0mblastall\u001b[0m \u001b[1;33m-\u001b[0m\u001b[1;33m-\u001b[0m\u001b[0mhelp\u001b[0m\u001b[1;33m\u001b[0m\u001b[0m\n\u001b[0m",
        "\u001b[1;31mNameError\u001b[0m: name 'blastall' is not defined"
       ]
      }
     ],
     "prompt_number": 1
    },
    {
     "cell_type": "markdown",
     "metadata": {},
     "source": [
      "First, load your contig from the file:"
     ]
    },
    {
     "cell_type": "code",
     "collapsed": false,
     "input": [
      "from cogent import LoadSeqs, DNA\n",
      "\n",
      "## load all the contigs in a file\n",
      "##contig_set = LoadSeqs('longest.fasta', moltype=DNA, format='fasta', aligned=False)\n",
      "contig_set = LoadSeqs(raw_input('file name:'), moltype=DNA, format='fasta', aligned=False)\n",
      "## extract the sequence of the first contig\n",
      "contig = contig_set.values()[0]\n"
     ],
     "language": "python",
     "metadata": {},
     "outputs": [
      {
       "name": "stdout",
       "output_type": "stream",
       "stream": "stdout",
       "text": [
        "file name:DNA_Sequence.fna.contigs.fasta\n"
       ]
      }
     ],
     "prompt_number": 26
    },
    {
     "cell_type": "markdown",
     "metadata": {},
     "source": [
      "PyCogent makes it easy to run database searches using [BLAST](http://www.ncbi.nlm.nih.gov/staff/tao/URLAPI/blastall/).\n",
      "\n",
      "Since your sequence reads have come from a human sample, we will BLAST against the most recent human genome assembly, [GRCh38](http://www.ncbi.nlm.nih.gov/assembly/GCA_000001405.15/).\n",
      "\n",
      "This will take a minute to run - be patient."
     ]
    },
    {
     "cell_type": "code",
     "collapsed": false,
     "input": [
      "from cogent.app.blast import blast_seqs, Blastall \n",
      "\n",
      "# Settings for the blastall program\n",
      "blast_params = {'-p':'blastn', '-m':'0', '-d':'GRCh38'} \n",
      "\n",
      "# Run the search\n",
      "result = blast_seqs([contig], Blastall, params = blast_params)\n",
      "\n",
      "# Read in the output\n",
      "output = result['StdOut'].read()\n"
     ],
     "language": "python",
     "metadata": {},
     "outputs": [
      {
       "name": "stdout",
       "output_type": "stream",
       "stream": "stdout",
       "text": [
        "file name:DNA_Sequence.fna.contigs.fasta\n"
       ]
      },
      {
       "metadata": {},
       "output_type": "pyout",
       "prompt_number": 23,
       "text": [
        "<function close>"
       ]
      }
     ],
     "prompt_number": 23
    },
    {
     "cell_type": "markdown",
     "metadata": {},
     "source": [
      "Note the `-m` parameter allows you to change how BLAST writes its output. \n",
      "\n",
      "Type \n",
      "````bash\n",
      "blastall --help\n",
      "````\n",
      "in the terminal to learn more about the options available.\n",
      "\n",
      "Write a new script to run a `blastn` search of any set of DNA sequences within a given FASTA file against the GRCh38 nucleotide database and save the output.\n",
      "\n",
      "**Hint**: you can save data to a file like this:\n",
      "\n",
      "````python\n",
      "f = open(\u2019output.txt\u2019,\u2019w\u2019)\n",
      "f.write('my output data')\n",
      "f.close\n",
      "````\n",
      "\n",
      "and you can capture the first command line argument following the name of your script like this:\n",
      "\n",
      "````python\n",
      "import sys\n",
      "my_args = sys.argv[1]\n",
      "````\n",
      "\n",
      "Use your script to BLAST all of your contigs against the human genome.\n",
      "\n",
      "What can you learn from the BLAST output about the genome you have assembled? \n",
      "\n",
      "Remember you can quickly take a look at the contents of a text file in the terminal using the command `less`."
     ]
    },
    {
     "cell_type": "heading",
     "level": 2,
     "metadata": {},
     "source": [
      "Sequencing coverage"
     ]
    },
    {
     "cell_type": "markdown",
     "metadata": {},
     "source": [
      "The theoretical \"fold-coverage\" of a shotgun sequencing experiment is given by\n",
      "\n",
      "$$C = \\frac{NL}{G}$$\n",
      "\n",
      "where $N$ is the number of reads, $L$ is the mean read length and $G$ is the size of the target genome (in bp).\n",
      "\n",
      "Estimate the fold coverage of the target genome provided by your data.\n",
      "\n",
      "What proportion of the genome is covered by your longest contig?"
     ]
    },
    {
     "cell_type": "code",
     "collapsed": false,
     "input": [
      "from cogent import LoadSeqs, DNA\n",
      "fasta_file = 'DNA_Sequence.fna.contigs.fasta'\n",
      "contig_set = LoadSeqs(fasta_file, moltype=DNA, format='fasta', aligned=False)\n",
      "contig_len = []\n",
      "\n",
      "for x in range(len(contig_set.values())):\n",
      "    contig_len.append(len(contig_set.values()[x]))\n",
      " \n",
      "avr_contig_len = float(sum(contig_len)/len(contig_len))\n",
      "num_contig     = len(contig_len)\n",
      "genome_len = 16569\n",
      "fold_cov = num_contig*avr_contig_len / genome_len\n",
      "\n",
      "print 'number of contigs:', len(contig_len)\n",
      "print 'average length of contigs:', avr_contig_len\n",
      "print 'fold coverage:', fold_cov\n",
      "print 'proportion cover longest contig:', float(max(contig_len))/genome_len"
     ],
     "language": "python",
     "metadata": {},
     "outputs": [
      {
       "output_type": "stream",
       "stream": "stdout",
       "text": [
        "number of contigs: 22\n",
        "average length of contigs: 758.0\n",
        "fold coverage: 1.00645784296\n",
        "proportion cover longest contig: 0.212807049309\n"
       ]
      }
     ],
     "prompt_number": 45
    },
    {
     "cell_type": "heading",
     "level": 2,
     "metadata": {},
     "source": [
      "Finding ORFs"
     ]
    },
    {
     "cell_type": "markdown",
     "metadata": {},
     "source": [
      "Given a [genetic code table](http://www.ncbi.nlm.nih.gov/Taxonomy/Utils/wprintgc.cgi), PyCogent can easily produce translations for a DNA sequence in all 6 reading frames."
     ]
    },
    {
     "cell_type": "markdown",
     "metadata": {},
     "source": [
      "The code tables are already built for you, you just need to choose the one that you need."
     ]
    },
    {
     "cell_type": "code",
     "collapsed": true,
     "input": [
      "from cogent.core.genetic_code import GeneticCodes\n",
      "\n",
      "for key, code in GeneticCodes.items():\n",
      "    print key, code.Name"
     ],
     "language": "python",
     "metadata": {},
     "outputs": [
      {
       "output_type": "stream",
       "stream": "stdout",
       "text": [
        "1 Standard Nuclear\n",
        "2 Vertebrate Mitochondrial\n",
        "3 Yeast Mitochondrial\n",
        "4 Mold, Protozoan, and Coelenterate Mitochondrial, and Mycoplasma/Spiroplasma Nuclear\n",
        "5 Invertebrate Mitochondrial\n",
        "6 Ciliate, Dasycladacean and Hexamita Nuclear\n",
        "9 Echinoderm and Flatworm Mitochondrial\n",
        "10 Euplotid Nuclear\n",
        "11 Bacterial Nuclear and Plant Plastid\n",
        "12 Alternative Yeast Nuclear\n",
        "13 Ascidian Mitochondrial\n",
        "14 Alternative Flatworm Mitochondrial\n",
        "15 Blepharisma Nuclear\n",
        "16 Chlorophycean Mitochondrial\n",
        "20 Trematode Mitochondrial\n",
        "22 Scenedesmus obliquus Mitochondrial\n",
        "23 Thraustochytrium Mitochondrial\n",
        "20 Trematode Mitochondrial\n",
        "22 Scenedesmus obliquus Mitochondrial\n",
        "23 Thraustochytrium Mitochondrial\n",
        "1 Standard Nuclear\n",
        "3 Yeast Mitochondrial\n",
        "2 Vertebrate Mitochondrial\n",
        "5 Invertebrate Mitochondrial\n",
        "4 Mold, Protozoan, and Coelenterate Mitochondrial, and Mycoplasma/Spiroplasma Nuclear\n",
        "6 Ciliate, Dasycladacean and Hexamita Nuclear\n",
        "9 Echinoderm and Flatworm Mitochondrial\n",
        "11 Bacterial Nuclear and Plant Plastid\n",
        "10 Euplotid Nuclear\n",
        "13 Ascidian Mitochondrial\n",
        "12 Alternative Yeast Nuclear\n",
        "15 Blepharisma Nuclear\n",
        "14 Alternative Flatworm Mitochondrial\n",
        "16 Chlorophycean Mitochondrial\n"
       ]
      }
     ],
     "prompt_number": 46
    },
    {
     "cell_type": "markdown",
     "metadata": {},
     "source": [
      "Which genetic code is needed for the genome you have assembled? \n",
      "\n",
      "Modify the following accordingly:"
     ]
    },
    {
     "cell_type": "code",
     "collapsed": false,
     "input": [
      "my_code_table = GeneticCodes[2]\n",
      "translations = my_code_table.sixframes(contig)\n",
      "\n",
      "for t in translations:\n",
      "    print t\n",
      "    print"
     ],
     "language": "python",
     "metadata": {},
     "outputs": [
      {
       "output_type": "stream",
       "stream": "stdout",
       "text": [
        "VPPSHDSLPFTSSYPSLLQP*QHSTSYSCTKRDQ\n",
        "\n",
        "SPPHTILYLSLHLTLHYCSPSSTPPPILARNGI\n",
        "\n",
        "PPLTRFFTFHFILPFIIAALAALHLLFLHETGS\n",
        "\n",
        "LIPFRARIGGGVLLGLQ**RVR*SER*RIV*GGD\n",
        "\n",
        "*SRFVQE*EVECC*GCNNEG*DEVKGKESCEGG\n",
        "\n",
        "DPVSCKNRRWSAARAAIMKGKMK*KVKNRVRGG\n",
        "\n"
       ]
      }
     ],
     "prompt_number": 56
    },
    {
     "cell_type": "markdown",
     "metadata": {},
     "source": [
      "We can quickly extract all the translated ORFs by splitting the translated sequences at the stop codons (`*`).\n",
      "\n",
      "It is easy to split a string on any given character:"
     ]
    },
    {
     "cell_type": "code",
     "collapsed": false,
     "input": [
      "mylist = \"There was no*possibility of taking a walk that day.\".split('*')\n",
      "print mylist"
     ],
     "language": "python",
     "metadata": {},
     "outputs": [
      {
       "output_type": "stream",
       "stream": "stdout",
       "text": [
        "['There was no', 'possibility of taking a walk that day.']\n"
       ]
      }
     ],
     "prompt_number": 58
    },
    {
     "cell_type": "markdown",
     "metadata": {},
     "source": [
      "Complete the code below to put all translated ORFs longer than 50aa into the list `tORFs` and print out the list."
     ]
    },
    {
     "cell_type": "code",
     "collapsed": false,
     "input": [
      "my_code_table = GeneticCodes[2]\n",
      "\n",
      "translations = []\n",
      "\n",
      "for x in range(len(contig_set.values())):\n",
      "    translations.append(my_code_table.sixframes(contig_set.values()[x]))\n",
      "\n",
      "#tORFs = []\n",
      "\n",
      "#for t in translations:\n",
      "#    for x in t:\n",
      "#        tORFs.extend(x.split('*'))\n",
      "\n",
      "#aa50 = []\n",
      "\n",
      "#for x in tORFs:     \n",
      "#    if len(x) >= 50:\n",
      "#        aa50.extend(x)\n",
      "\n",
      "#print aa50\n",
      "\n",
      "tORFs50 = []\n",
      "\n",
      "for t in translations:\n",
      "    for x in t:\n",
      "        split = x.split('*')\n",
      "        for y in split:\n",
      "            if len(y) > 50:\n",
      "               tORFs50.append(y) \n",
      "print tORFs50"
     ],
     "language": "python",
     "metadata": {},
     "outputs": [
      {
       "output_type": "stream",
       "stream": "stdout",
       "text": [
        "['VMNFALILMINTLLALLLMIITFWLPQLNGYMEKSTPYECGFDPMSPARVPF', 'LAVTFLGLLTALDLNYLTNKLKMKSPLCTFYFSNMLGFYPSITHRTIPYLGLLTSQNLPLLLLDLTWLEKLLPKTISQHQISTSIITSTQKGMIKLYFL', 'MIQALLITILLGLYFTLLQASEYFESPFTISDGIYGSTFFVATGFHGLHVIIGSTFLTICFIRQLMFHFTSKHHFGFEAAAWYWHFVDVVWLFLYVSIYWWGSYSFSMNSTVNFQLT', 'YDGVVVVVNFNSVGSWMIYEGEGSGLIREDPIGAGALYDYGRWLVVVTGWTLFVGVYIVIEIARGN', 'HAFFKAMLFMCSGSIIHNLNNEQDIRKMGGLLKTMPLTSTSLTIGSLALAGMPFLTGFYSKDHIIETANMSYTNAWALSITLIATSLTSAYSTRMILLTLTGQPRFPTLTNINENNPTLLNPIKRLAAGSLFAGFLITNNISPASPFQTTIPLYLKLTA', 'CKQYLTNPQVLNYQTCIKNFGWGDLGAEPNLRAVHAKTSPVKANYYTQLIQ', 'VQLSLTFNQWNWPAREEAGMTQQDEKTLWSFNLLMQTVPNKPTGPKLPNLH', 'NNTIAVHYSYSHNPQHPLPLSQYCAYCHTSLCRLRSSGGPSPTSLNLQHMWP', 'KFFLVAITFLLFDLEIALLLPLPWALQTTNLPLMVMSSLLLIIILALSLAYEWLQKGLDWAELVYSLNKTNDFDSLNYDNHIYQMPLIYMNIMLAFTISLLGMLVYRSHLMSSLLCLEGMMLSLFIMATLMTLNTHSLLANIVPIAMLVFAACEAAVGLALLVSISNTYGLDYVHN', 'PQLNTTVWPTMITPMLLTLFLITQLKMLNTNYHLPPSPKPMKMKNYNKPWEPKWTKICSLHSLPPQS', 'TKMNENLFASFIAPTILGLPAAVLIILFPPLLIPTSKYLINNRLITTQQWLIKLTSKQMMAMHNTKGRTWSLMLVSLIIFIATTNLLGLLPHS', 'VAWFILHSNSWDPQQMALLNANPSLTPLLGLLLAAAGKSAQLGLHPWLPSAMEGPTPVSALLHSSTMVVAGIFLLIRFHPLAENSPLIQTLTLCLGAITTLFAAVCALTQNDIKKIVAFSTSSQLGLMMVTIGINQPHLAFLHICTK', 'GSIPLLNNMPMANLLLLIVPILIAMAFLMLTERKILGYIQLRKGPNVVGPYGLLQPFADAMKLFTKEPLKPATSTITLYITAPTLALTIALLLWTPLPMPNPLVNLNLGLLFILATSSLAVYSILWSGWASNSNYALIGALRAVAQTISYEVTLAIILLSTLLMSGSFNLSTLITTQEHLWLLLPSWPLAMMWFISTLAETNRTPFDLAEGESELVSGFNIEYAAGPFALFFMAEYTNIIMMNTLTTTIFLGTTYDALSPELYTTYFVT', 'PSHSHTTNLINTTPAHPTQHTHTAANPMPRTNQTPKTPPTVYVAYLLKAMHWKCLDGLTSPHKQMGLVLAFLLALSKITHASIPIPVSSPSKSPRSKGTSIKHAAMQLKTLSLATPPRETAVINL', 'MGLSRIEGLFGQVVCGGLGMCFLVLHRAIIGMWLVCWLVGLVWGALWSGSEITWLGR', 'NRCRLNPSLRFHTSSKPLPARQHMMTHQSHAYHMVKPSPWPLTGALSALLMTSGLAMWFHFHSMTLLMLGLLTNTLTMYQWWRDVTRESTYQGHHTPPVQKGLRYGMILFITSEVFFFAGFFWAFYHSSLAPTPQLGGHWPPTGITPLNPLEVPLLNTSVLLASGVSITWAHHSLMENNRNQMIQ', 'LPHSFTPTTQLSMNLAMAIPLWAGAVIMGFRSKIKNALAHFLPQGTPTPLIPMLVIIETISLLIQPMALAVRLTANITAGHLLMHLIGSATLTMSTINLPSTLIIFTILILLTILEIAVALIQAYVFTLLVSLYLHDNT', 'HAAQVGLQDATSPIMEELITFHDHALMIIFLICFLVLYALFLTLTTKLTNTNISDAQEMETVWTILPAIILVLIALPSLRILYMTDEVNDPSLTIKSIGHQWYWTYEYTDYGGLIFNSYMLPPLFLEPGDLRLLDVDNRVVLPIEAPIRMMITSQDVLHSWAVPTLGLKTDAIPGRLNQTTFTATRPGVYYGQCSEICGANHSFMPIVLELIPLKIFEMGPVFTL', 'KKTPQTPLLNPHSTETKHTSLFSHGLQPRPMMWKTIVVFQLQEHQWPQYAKLTP', 'TPMTPMRKINPLMKLINHSFIDLPTPSNISAWWNFGSLLGACLILQITTGLFLAMHYSPDASTAFSSIAHITRDVNYGWIIRYLHANGASMFFICLFLHIGRGLYYGSFLYSETWNIGIILLLATMATAFMGYVLPWGQMSFWGATVITNLLSAIPYIGTDL', 'GVNFAYWGHWCSCSWNTTMVFHIIGRGCSPCENNDVCFVSVECGFSNGVCGVFF', 'MMMYALFLLSVGLVMGFVGFSSKPSPIYGGLVLIVSGVVGCVIILNFGGGYMGLMVFLIYLGGMMVVFGYTTAMAIEEYPEAWGSGVEVLVSVLVGLAMEVGLVLWV', 'GSNNPLGITSHSDKITFHPYYTIKDALGLLLFLLSLMTLTLFSPDLLGDPDNYTLANPLNTPPHIKPEWYFLFAYTILRSVPNKLGGVLALLLSILILAMIPTLHMSKQQSMMFRPLSQSLYWLLAADLLILTWIGGQPVSYPFTIIGQVASVLYFTTILILMPTISLIENKMLKWACPCSMN', 'DSNLNYSLFFHGEADLGTTQVLTHPSTTAMYFVHYCQPPWMLYGTMNTWPPVVHKNPIHIKTPSPCLQASTAINLQLSHINCNSKATPHPLGYQQTYPPLTVHST', 'SITLLTTHGSSPCIWYFRLGGVHAMALRDAGAGAPYVAVSVFDSCLILLFIAPTFNITGEHTYQSVLIN', 'LMPPCLTTWLSQLLKDNSYPLVLGPKNFGATPNKSNNHAHYYNHPNPDFPNSPHPYHPR', 'LFPNLFLRPPNNPPPNTNYLTPTPHNHGKPTPLIQWTTITKKTLPLYTNLPTNLLNYNIHSH', 'PKIAHCMLFNQPHSPRSNSHSHPNPLKLHRRSHSHSRPRTYILITILPSKLKLRTHSQSHHNPLS', 'APKILVQLQMKVMTMHTTMTTLTLTSLIPPILTTLVNPNKKNSYPHYVKSIVASTFIISLFPTTMFMCLDQEVIISNWHWATTQTTQLSLSFKLDYFSMMFIPVALFVTWSIMEFSLWYMNSDPNINQFFKYLLIFLITMLILVTANNLFQLFIGWEGVGIMSFLLISWWYARADANTAAIQAILYNRIGDI', 'PKPTPMLKLIVPTIMLLPLTWLSKKHMIWINTTTHSLIISIIPLLFFNQINNNLFSCSPTFSSDPLTTPLLMLTTWLLPLTIMASQRHLSSEPLSRKKLYLSMLISLQISLIMTFTATELIMFYIFFETTLIPTLAIITRWGNQPERLNAGTYFLFYTLVGSLPLLIALIYTHNTLGSLNILLLTLTAQELSNSWANNLMWLAYTMAFMVKMPLYGLHLWLPKAHVEAPIAGSMVLAAVLLKLGGYGMMRLTLILNPLTKHMAYPFLVLSLWGMIMTSSICLRQTDLKSLIAYSSISHMALVVTAILIQTPWSFTGAVILMVAHGLTSSLLFCLANSNYERTHSRIMILSQGLQTLLPLMAFWWLLASLANLALPPTINLLGELSVLVTTFSWSNITLLLTGLNMLVTALYSLYMFTTTQWGSLTHHINNMKPSFTRENTLMFMHLSPILLLSLNPDIITGFSSCKYSLTKTSDCESDN', 'SFHIASVECGESAKYFDAGGDSDDYGSGGEMCSCVYVYSYCKYMVCSHDKP', 'AQSTAADHFMLLPWSVASQLNTLTPVGMAMIMVAEVKYARVSTSIPTVNMWCAHTMNP', 'MGEISEWSLLWWQMQLLLMGHSGSELQRSTCRVVRCLVMSLLMQCQSGHLRWKE', 'SCHQVFPHASNRIHNPSNSYPLQQYTLRTMNHNQYYQSMLIINNHNGYSNKT', 'GHQFHHNNYQYKTPCHNPMPNAPLRLIRPNHSSPTSPISPSPSCWHHYTTN', 'HQAPPSNLPVLMNSNSMPPIPLRPTHTPPMKKLPTTHPSITYMMCLHTHYNLQHSPSNL', 'GQLNKLSGPYPENVGYTLPVLINPLAQPIIYSTIFAGTLITALSSHWFFTWVGLEMNMLAFIPVLTKKMNPRSTEAAIKYFLTQATASMILLMAILFNNMLSGQWTMTNTTNQYSSLMIMMAMAMKLGMAPFHFWVPEVTQGTPLTSGLLLLTWQKLAPISIMYQISPSLNVSLLLTLSILSIMAGSWGGLNQTQLRKILAYSSITHMGWMMAVLPYNPNMTILNLTIYIILTTTAFLLLNLNSSTTTLLLSRTWNKLTWLTPLIPSTLLSLGGLPPLTGFLPKWAIIEEFTKNNSLIIPTIMATITLLNLYFYLRLIYSTSITLLPMSNNVKMKWQFEHTKPTPFLPTLIALTTLLLPISPFMLMIL', 'PLSLDLQSNASLSHFTSPPLMFADRWLFSTNHKDIGTLYLLFGAWAGVLGTALSLLIRAELGQPGNLLGNDHIYNVIVTAHAFVMIFFMVMPIMIGGFGNWLVPLMIGAPDMAFPRMNNMSFWLLPPSLLLLLASAMVEAGAGTGWTVYPPLAGNYSHPGASVDLTIFSLHLAGVSSILGAINFITTIINMKPPAMTQYQTPLFVWSVLITAVLLLLSLPVLAAGITMLLTDRNLNTTFFDPAGGGDPILYQHLFWFFGHPEVYILILPGFGMISHIVTYYSGKKEPFGYMGMVWAMMSIGFLGFIVWAHHMFTVGMDVDTRAYFTSATMIIAIPTGVKVFSWLATLHGSNMKWSAAVLWALGFIFLFTVGGLTGIVLANSSLDIVLHDTYYVVAHFHYVLSMGAVFAIMGGFIHWFPLFSGYTLDQTYAKIHFTIMFIGVNLTFFPQHFLGLSGMPRRYSDYPDAYTTWNILSSVGSFISLTAVMLMIFMIWEAFASKRKVLMVEEPSMNLEWLYGCPPPYHTFEEPVYMKS', 'TKPLLLTSLFLWIRTAYPRFRYDQLMHLLWKNFLPLTLALLMWYVSMPITISSIPPQT']\n",
        "YDGVVVVVNFNSVGSWMIYEGEGSGLIREDPIGAGALYDYGRWLVVVTGWTLFVGVYIVIEIARGN\n"
       ]
      }
     ],
     "prompt_number": 139
    },
    {
     "cell_type": "heading",
     "level": 2,
     "metadata": {},
     "source": [
      "Using BLASTP"
     ]
    },
    {
     "cell_type": "markdown",
     "metadata": {},
     "source": [
      "Now you have a list of putative protein sequences. Let's try to identify them.\n",
      "\n",
      "Add code below to run a `blastp` search of all translated ORFs longer than 50aa against the 'uniprot_sprot' protein sequence database.\n",
      "\n",
      "\n"
     ]
    },
    {
     "cell_type": "code",
     "collapsed": false,
     "input": [
      "from cogent.app.blast import blast_seqs, Blastall \n",
      "\n",
      "# Settings for the blastall program\n",
      "blast_params = {'-p':'blastp', '-m':'0', '-d':'uniprot_sprot', '-v':'5', '-b':'5'} \n",
      "\n",
      "output = []\n",
      "# Run the search\n",
      "for x in tORFs50:\n",
      "    result = blast_seqs(x, Blastall, params = blast_params)\n",
      "    print result['StdOut'].read()\n",
      "\n",
      "# Read in the output\n",
      "#print output"
     ],
     "language": "python",
     "metadata": {},
     "outputs": [
      {
       "output_type": "stream",
       "stream": "stdout",
       "text": [
        "\n",
        "\n",
        "\n",
        "\n",
        "\n",
        "\n",
        "\n"
       ]
      },
      {
       "output_type": "stream",
       "stream": "stdout",
       "text": [
        "\n",
        "\n",
        "\n",
        "\n",
        "\n",
        "\n",
        "\n"
       ]
      },
      {
       "output_type": "stream",
       "stream": "stdout",
       "text": [
        "\n",
        "\n",
        "\n",
        "\n",
        "\n",
        "\n",
        "\n"
       ]
      },
      {
       "output_type": "stream",
       "stream": "stdout",
       "text": [
        "\n",
        "\n",
        "\n",
        "\n",
        "\n",
        "\n",
        "\n"
       ]
      },
      {
       "output_type": "stream",
       "stream": "stdout",
       "text": [
        "\n",
        "\n",
        "\n",
        "\n",
        "\n",
        "\n",
        "\n"
       ]
      },
      {
       "output_type": "stream",
       "stream": "stdout",
       "text": [
        "\n",
        "\n",
        "\n",
        "\n"
       ]
      }
     ],
     "prompt_number": 140
    },
    {
     "cell_type": "markdown",
     "metadata": {},
     "source": [
      "Which of your ORFs seem to correspond to real proteins? \n",
      "\n",
      "Are there any apparent errors in your assembly of these coding regions?"
     ]
    },
    {
     "cell_type": "heading",
     "level": 2,
     "metadata": {},
     "source": [
      "Sequence composition"
     ]
    },
    {
     "cell_type": "markdown",
     "metadata": {},
     "source": [
      "The function `BaseUsage` is part of the `cogent.core.usage` package, which deals with sequence composition.\n",
      "\n",
      "Adapt the code below to calculate the GC content of your contig as a percentage."
     ]
    },
    {
     "cell_type": "code",
     "collapsed": true,
     "input": [
      "from cogent.core.usage import BaseUsage\n",
      "\n",
      "base_usage = BaseUsage(contig) \n",
      "print base_usage['A']\n"
     ],
     "language": "python",
     "metadata": {},
     "outputs": []
    },
    {
     "cell_type": "heading",
     "level": 2,
     "metadata": {},
     "source": [
      "Gene annotation by sequence similarity"
     ]
    },
    {
     "cell_type": "markdown",
     "metadata": {},
     "source": [
      "ORF-finding is the simplest way to predict the positions of protein-coding genes in prokaryote and organelle genomes. However it can be inaccurate for high-GC genomes, in which stop codons are less likely to occur by chance.\n",
      "\n",
      "The [MITOS](http://mitos.bioinf.uni-leipzig.de) webserver uses profile hidden Markov models trained on known protein-coding genes to annotate mitochondrial genomes. It also uses BLAST searches to locate genes coding for tRNAs and rRNAs.\n",
      "\n",
      "Submit your longest ORF to the MITOS webserver to obtain a more accurate annotation. It may take up to a couple of hours for your job to be processed.\n",
      "\n",
      "When you receive the results, download the gene orientation diagram (just click on the image), the [GFF](http://www.sanger.ac.uk/resources/software/gff/spec.html) annotation file, FASTA file, the protein plot and the ncRNA plot. Take a look at these last two to see the basis for the gene predictions made by MITOS.\n",
      "\n",
      "Keep these files safe as you will need them for the next part of the practical.\n"
     ]
    },
    {
     "cell_type": "heading",
     "level": 2,
     "metadata": {},
     "source": [
      "Optional exercises"
     ]
    },
    {
     "cell_type": "markdown",
     "metadata": {},
     "source": [
      "###1\n",
      "\n",
      "The positions of stop codons in a particular reading frame of your contig are easily found using the code below.\n",
      "\n",
      "Adapt this code to investigate whether the protein-coding regions in your contig have a different GC content to non-coding regions.\n",
      "\n",
      "You can make the simplifying assumption that an ORF longer than 100aa is a genuine coding region.\n",
      "\n",
      "**Hint**: you will need to find a way to keep track of which bases in the contig are part of a coding region."
     ]
    },
    {
     "cell_type": "code",
     "collapsed": false,
     "input": [
      "stops_frame_1 = my_code_table.getStopIndices(contig, start=0)\n",
      "print stops_frame_1\n",
      "\n",
      "print\n",
      "\n",
      "reverse_complement = contig.rc()\n",
      "stops_frame_minus1 = my_code_table.getStopIndices(reverse_complement, start=0)\n",
      "print stops_frame_minus1\n",
      "\n"
     ],
     "language": "python",
     "metadata": {},
     "outputs": []
    },
    {
     "cell_type": "markdown",
     "metadata": {},
     "source": [
      "###2\n",
      "\n",
      "Load the FASTA file of gene predictions produced by MITOS and translate any protein-coding genes. \n",
      "\n",
      "How do these compare to your gene predictions based on ORFs?"
     ]
    },
    {
     "cell_type": "code",
     "collapsed": false,
     "input": [],
     "language": "python",
     "metadata": {},
     "outputs": []
    }
   ],
   "metadata": {}
  }
 ]
}