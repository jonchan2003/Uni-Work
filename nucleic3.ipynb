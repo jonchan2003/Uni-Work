{
 "metadata": {
  "name": ""
 },
 "nbformat": 3,
 "nbformat_minor": 0,
 "worksheets": [
  {
   "cells": [
    {
     "cell_type": "heading",
     "level": 1,
     "metadata": {},
     "source": [
      "Nucleic acids 3: Transcript analysis"
     ]
    },
    {
     "cell_type": "heading",
     "level": 2,
     "metadata": {},
     "source": [
      "Introduction"
     ]
    },
    {
     "cell_type": "markdown",
     "metadata": {},
     "source": [
      "The transcriptome is the complete set of transcripts in a cell, both in terms of their type and \n",
      "quantity. Various technologies have been developed to characterize the transcriptome of a \n",
      "population of cells, including hybridization-based microarrays and Sanger sequencing\n",
      "based methods. \n",
      "\n",
      "The advent of high throughput sequencing (HTS) based methods has changed the way in which transcriptomes are studied. In the RNA-seq method, complementary DNAs (cDNAs) generated from the RNA of interest are directly sequenced using next-generation sequencing technologies. The reads obtained can then be aligned to a reference genome in order to construct a whole genome transcriptome map. RNA-seq has been used successfully to precisely quantify transcript levels, confirm or revise previously annotated 5' and 3' ends of genes, and map exon/intron boundaries.\n",
      "\n",
      "The aim of this practical is to map reads from a published RNA-seq data set onto your contig to investigate mitochondrial transcription in a human cell line.\n",
      "\n",
      "You are encouraged to edit text, add additional cells and save the state of this workbook to keep a record of what you have done in this practical. You can include links, headings and code formatting in your text using [Markdown](https://github.com/adam-p/markdown-here/wiki/Markdown-Cheatsheet#wiki-headers) syntax."
     ]
    },
    {
     "cell_type": "heading",
     "level": 2,
     "metadata": {},
     "source": [
      "Important!"
     ]
    },
    {
     "cell_type": "markdown",
     "metadata": {},
     "source": [
      "Your network drive mounted on `~/homedir` is capped at a capacity of 4G. Because this practical will generate very large temporary files, you will need to work **OUTSIDE** of this directory today.\n",
      "\n",
      "Make a new directory under `~` and work in there for today:\n",
      "\n",
      "````bash\n",
      "cd ~\n",
      "mkdir nucleic3\n",
      "cd nucleic3\n",
      "````\n",
      "\n",
      "At the end of the practical you should copy your results back into your `homedir`.\n",
      "\n",
      "**Any files left outside the homedir might not be accessible after you log out.**"
     ]
    },
    {
     "cell_type": "heading",
     "level": 2,
     "metadata": {},
     "source": [
      "Visualising genomic features using Artemis."
     ]
    },
    {
     "cell_type": "markdown",
     "metadata": {},
     "source": [
      "[**Artemis**](http://www.sanger.ac.uk/resources/software/artemis/) is a free genome browser and annotation tool. To start it from the terminal, just type:\n",
      "````bash\n",
      "/bioinformatics/artemis/art\n",
      "````\n",
      "\n",
      "First, select genetic code table 2 (for vertebrate mitochondria) from the *Options* menu.\n",
      "\n",
      "Now you can load the FASTA file for your longest contig (*File -> Open*). The viewer starts with three sections:\n",
      "\n",
      "* a schematic view, in which you can see the two DNA strands marked in grey and the three forward and three reverse reading frames. Note the stop codon positions, which are marked with black bars.\n",
      "\n",
      "* a close-up sequence view, showing the DNA sequence for each strand and the codon translations in each reading frame.\n",
      "\n",
      "* a feature list, which is currently empty.\n",
      "\n",
      "We want to load your MITOS GFF output, but first it needs to be edited for compatibility with Artemis.\n",
      "\n",
      "Copy the GFF to a new file called `my_features.gff` and open this in `emacs`.\n",
      "\n",
      "You will see something like this:\n",
      "\n",
      "````\n",
      "Contig17\tmitos\tcob\t1\t726\t148453649.6\t+\t.\n",
      "Contig17\tmitfi\ttrnT(tgt)\t731\t796\t1.78e-12\t+\t.\t\n",
      "Contig17\tmitfi\ttrnP(tgg)\t799\t866\t1.448e-12\t-\t.\t\n",
      "Contig17\tmitfi\ttrnF(gaa)\t1990\t2060\t2.079e-11\t+\t.\t\n",
      "Contig17\tmitfi\trrnS\t2064\t2642\t0.0053951375\t+\t.\t\n",
      "````\n",
      "\n",
      "[GFF](http://www.sanger.ac.uk/resources/software/gff/spec.html) is a tab-delimited format, with a different type of information in each column.\n",
      "\n",
      "The third column should declare the type of genomic feature, but MITOS has used it to store the gene names. Artemis requires that this column contains a recognised feature type. We can use the following:\n",
      "\n",
      "* `CDS` (Coding DNA sequence) for a protein-coding gene.\n",
      "* `tRNA` for a tRNA-encoding gene.\n",
      "* `misc_RNA` for an rRNA-encoding gene. We will use this feature type instead of `rRNA`, since it will be easier to see in the Artemis viewer.\n",
      "\n",
      "The optional 9th column in GFF can contain supplementary information. We will use this column to store the gene names themselves.\n",
      "\n",
      "Edit your GFF file in `emacs` so that it resembles the following:\n",
      "\n",
      "````\n",
      "Contig17\tmitos\tCDS\t1\t726\t148453649.6\t+\t.\tgene=cob\n",
      "Contig17\tmitfi\ttRNA\t731\t796\t1.78e-12\t+\t.\tgene=trnT(tgt)\t\n",
      "Contig17\tmitfi\ttRNA\t799\t866\t1.448e-12\t-\t.\tgene=trnP(tgg)\n",
      "Contig17\tmitfi\ttRNA\t1990\t2060\t2.079e-11\t+\t.\tgene=trnF(gaa)\n",
      "Contig17\tmitfi\tmisc_RNA\t2064\t2642\t0.0053951375\t+\t.\tgene=rrnS\t\n",
      "\n",
      "````\n",
      "\n",
      "Now load your GFF (*File -> Read An Entry*) to take a look at the positions of the genes found on the contig.\n"
     ]
    },
    {
     "cell_type": "heading",
     "level": 2,
     "metadata": {},
     "source": [
      "RNA-seq data"
     ]
    },
    {
     "cell_type": "markdown",
     "metadata": {},
     "source": [
      "The RNA-seq data that we will use is taken from a [detailed study of the human mitochondrial transcriptome](http://www.ncbi.nlm.nih.gov/pubmed/21854988).\n",
      "\n",
      "Reads from [one of the Illumina runs](http://trace.ncbi.nlm.nih.gov/Traces/sra/?run=SRR314795) in this study have been downloaded, converted to FASTQ format and saved at \n",
      "\n",
      "````bash\n",
      "/bioinformatics/rnaseq/SRR314795.fastq\n",
      "````\n",
      "The RNA sequenced in this run was obtained from the mitochondria of human 143B cells.\n",
      "\n",
      "An Illumina run produces a very large output file (often ~10G or larger). Take a look at the contents of this FASTQ file using the linux command **`head`**, but *do not* attempt to copy it to your workstation. You can use it from its current location with no problems.\n",
      "\n"
     ]
    },
    {
     "cell_type": "heading",
     "level": 2,
     "metadata": {},
     "source": [
      "Mapping reads to your reference genome"
     ]
    },
    {
     "cell_type": "markdown",
     "metadata": {},
     "source": [
      "In order to align the RNA-seq reads to your reference genome (the longest contig that you have assembled), we need to build an *index*.\n",
      "\n",
      "The aligner will use this index to map the reads. The most popular indexing method is based on the [Burrows-Wheeler transform](http://en.wikipedia.org/wiki/Burrows\u2013Wheeler_transform). This is the method used by the ultrafast, memory efficient short read mappers [BWA](http://bio-bwa.sourceforge.net/) and [BOWTIE](http://bowtie-bio.sourceforge.net/index.shtml). \n",
      "\n",
      "The output is reported in SAM, BAM or BED format. (The BAM format is the binary version of SAM and thus more compact, but not human readable.)\n",
      "\n",
      "Use **BWA** to create an index for your contig:\n",
      "\n",
      "````bash\n",
      "bwa index longest.fasta\n",
      "````\n",
      "\n",
      "Now you can calculate sequence alignment coordinates for your reads relative to this index:\n",
      "````bash\n",
      "bwa aln longest.fasta /bioinformatics/rnaseq/SRR314795.fastq > SRR314795.sai\n",
      "````\n",
      "and produce the actual alignment:\n",
      "````bash\n",
      "bwa samse longest.fasta SRR314795.sai /bioinformatics/rnaseq/SRR314795.fastq  > SRR314795.sam\n",
      "````\n",
      "\n",
      "The output alignment is in [SAM](http://bio-bwa.sourceforge.net/bwa.shtml#4) format.\n"
     ]
    },
    {
     "cell_type": "heading",
     "level": 2,
     "metadata": {},
     "source": [
      "Visualising mapped reads using Artemis"
     ]
    },
    {
     "cell_type": "markdown",
     "metadata": {},
     "source": [
      "Artemis can handle mapped reads in BAM format, allowing you to compare your previously identified genomic features with the experimentally observed transcripts. \n",
      "\n",
      "Convert your SAM file to BAM format using the [**samtools**](http://samtools.sourceforge.net/) package:\n",
      "\n",
      "````bash\n",
      "samtools view -b -S SRR314795.sam > SRR314795.bam\n",
      "````\n",
      "\n",
      "Artemis requires that BAM files be sorted by alignment position and indexed:\n",
      "\n",
      "````bash\n",
      "samtools sort SRR314795.bam SRR314795_sorted\n",
      "samtools index SRR314795_sorted.bam\n",
      "````\n",
      "\n",
      "Load your sorted, indexed BAM file into Artemis (*File -> Read BAM / VCF*). This will create a new view, showing the locations of the mapped reads on your contig.\n",
      "\n",
      "Investigate the different view options available (right-click and choose *Views*). The *Stack*, *Strand Stack* and *Coverage Heat Map* may all be useful.\n",
      "\n",
      "How well do the starts and ends of your gene models agree with the transcripts assembled from the RNAseq data?\n",
      "\n",
      "Do you observe any additional transcripts that do not correspond to features you have already annotated? If so, what might these be?"
     ]
    },
    {
     "cell_type": "heading",
     "level": 2,
     "metadata": {},
     "source": [
      "Quantifying transcript abundances"
     ]
    },
    {
     "cell_type": "markdown",
     "metadata": {},
     "source": [
      "In RNA-seq, the relative expression of a transcript is proportional to the number of cDNA fragments that originate from it. There may be thousands of genes in a genome, so we usually want to have a single number quantifying the transcription of each one.\n",
      "\n",
      "RPKM (Reads per Kilobase per Million Reads) and FPKM (the paired-end version, Fragments per Kilobase per Million Reads, where one pair of reads is one fragment) are widely used to describe transcript abundance.\n",
      "\n",
      "* By taking into account the length of the gene, you correct for a longer transcript producing more sequencing reads than a shorter one. \n",
      "* By dividing by the number of mapped reads, you correct for different sequencing runs having different total numbers of reads.\n",
      "\n",
      "As an example, a 1kb transcript with 2000 alignments in a sample of 10 million reads  (out of which 8 million reads can be mapped) will have  \n",
      "\n",
      "$$\n",
      "RPKM = \\frac{2000}{1 \\times 8} = 250\n",
      "$$\n",
      "\n",
      "Artemis can calculate RPKM values based on your BAM file. Simply select all of your features (shift+click in the feature list), then right-click inside the BAM view and choose *Analyse -> RPKM count of selected features...*).\n",
      "\n",
      "What do you notice about the relative abundances of CDS, tRNA and rRNA transcripts?\n",
      "\n"
     ]
    },
    {
     "cell_type": "heading",
     "level": 2,
     "metadata": {},
     "source": [
      "Cleaning up"
     ]
    },
    {
     "cell_type": "markdown",
     "metadata": {},
     "source": [
      "Keep hold of these files together for later use in Artemis by copying them to a directory inside your `homedir`:\n",
      "\n",
      "* `SRR314795_sorted.bam`\n",
      "* `SRR314795_sorted.bam.bai`\n",
      "* `my_features.gff`\n",
      "* `longest.fasta` ( or whatever your longest contig file is called )\n",
      "\n",
      "The total size of these files should not exceed 1.5G. \n",
      "\n",
      "The other files created today are not needed and you can safely leave them where they are."
     ]
    },
    {
     "cell_type": "heading",
     "level": 2,
     "metadata": {},
     "source": [
      "Optional exercises"
     ]
    },
    {
     "cell_type": "markdown",
     "metadata": {},
     "source": [
      "###1\n",
      "Write a script that will convert any GFF file produced by MITOS into a format that can be read by Artemis."
     ]
    },
    {
     "cell_type": "markdown",
     "metadata": {},
     "source": [
      "###2\n",
      "The quality value (QV) for a nucleotide call is calculated as \n",
      "\n",
      "$$q = -10 \\times \\log_{10} (p) $$\n",
      "\n",
      "where $q$ is the quality value and $p$ is the predicted probability that the color call is \n",
      "*incorrect*. Hence,\n",
      "\n",
      "* Q10 (quality score 10 in a `.qual` file) = 90% chance of a base being called correctly.\n",
      "* Q20 (quality score 20 in a `.qual` file) = 99% chance of a base being called correctly.\n",
      "* Q30 (quality score 30 in a `.qual` file) = 99.9% chance of a base being called correctly.\n",
      "\n",
      "What percentage of reads from this sequencing run have a mean quality score above Q10?\n"
     ]
    }
   ],
   "metadata": {}
  }
 ]
}