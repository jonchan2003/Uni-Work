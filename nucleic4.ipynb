{
 "metadata": {
  "name": ""
 },
 "nbformat": 3,
 "nbformat_minor": 0,
 "worksheets": [
  {
   "cells": [
    {
     "cell_type": "heading",
     "level": 1,
     "metadata": {},
     "source": [
      "Nucleic acids 4: DNA binding sites"
     ]
    },
    {
     "cell_type": "heading",
     "level": 2,
     "metadata": {},
     "source": [
      "Introduction"
     ]
    },
    {
     "cell_type": "markdown",
     "metadata": {},
     "source": [
      "[Mitochondrial transcription](http://www.ncbi.nlm.nih.gov/pubmed/17291767) takes place under the control of two promoter regions on the chromosome. Three nuclear-endoded transcription factors, [TFAM](http://www.uniprot.org/uniprot/Q00059), [TFB1M](http://www.uniprot.org/uniprot/Q8WVM0) and [TFB2M](http://www.uniprot.org/uniprot/Q9H5Q4), participate in the initiation of transcription from these promoter regions, resulting in long polycistronic transcripts that are further processed to release the required mRNA, tRNA and rRNA products.\n",
      "\n",
      "Despite this apparent simplicity of regulation, it has recently been shown that other nuclear-encoded proteins bind the mitochondrial genome at many sites remote from the transcription start sites. Further RNA-binding proteins are also likely to participate in the post-transcriptional regulation of gene expression.\n",
      "\n",
      "The aim of this practical is to test for the presence of over-represented Dmotifs in the mitochondrial genome that may correspond to DNA binding sites. You will check your results against a database of known binding sites to suggest the protein families that might recognise them. Finally, you will compare the locations of these sites on your assembled contig with data from a DNAseI footprinting experiment to assess whether they are actually observed to be occupied.\n",
      "\n",
      "You are encouraged to edit text, add additional cells and save the state of this workbook to keep a record of what you have done in this practical. You can include links, headings and code formatting in your text using [Markdown](https://github.com/adam-p/markdown-here/wiki/Markdown-Cheatsheet#wiki-headers) syntax."
     ]
    },
    {
     "cell_type": "heading",
     "level": 2,
     "metadata": {},
     "source": [
      "Important!"
     ]
    },
    {
     "cell_type": "markdown",
     "metadata": {},
     "source": [
      "Your network drive mounted on `~/homedir` is capped at a capacity of 4G. Because this practical will generate very large temporary files, you will need to work **OUTSIDE** of this directory today.\n",
      "\n",
      "Make a new directory under `~` and work in there for today:\n",
      "\n",
      "````bash\n",
      "cd ~\n",
      "mkdir nucleic4\n",
      "cd nucleic4\n",
      "````\n",
      "\n",
      "At the end of the practical you should copy your results back into your `homedir`.\n",
      "\n",
      "**Any files left outside the homedir might not be accessible after you log out.**"
     ]
    },
    {
     "cell_type": "heading",
     "level": 2,
     "metadata": {},
     "source": [
      "Finding over-represented DNA motifs with DREME"
     ]
    },
    {
     "cell_type": "markdown",
     "metadata": {},
     "source": [
      "The [DREME](http://meme.nbcr.net/meme/cgi-bin/dreme.cgi) webserver analyses a set of input DNA sequences to identify short motifs that are enriched with respect to shuffled versions of the same sequences. It can be used to suggest binding sites that are common to the input sequence set (for example, upstream regions of a set of genes that are known to be co-regulated).\n",
      "\n",
      "Upload your initial set of reads (in FASTA format) to search for over-represented DNA motifs in the human mitochondrial genome.\n",
      "\n",
      "The default E-value cut-off of 0.05 is quite lax and is likely to generate several false positive motifs. Your results will be more meaningful if you set a more stringent cutoff (e.g. $E<10^{-10}$)."
     ]
    },
    {
     "cell_type": "heading",
     "level": 2,
     "metadata": {},
     "source": [
      "Comparison to known binding sites"
     ]
    },
    {
     "cell_type": "markdown",
     "metadata": {},
     "source": [
      "The mitochondrial genome does not code for any transcription factors, so any DNA-binding proteins that participate in mitochondrial gene regulation must be encoded in the nuclear genome and transported to the mitochondrion after translation. \n",
      "\n",
      "As a starting point for the identification of these unknown regulatory proteins, we can compare the motifs you have generated to characteristic binding motifs for known DNA-binding protein families. \n",
      "\n",
      "The [TOMTOM](http://meme.nbcr.net/meme/cgi-bin/tomtom.cgi) motif comparison server can search any query motif against a number of motif databases. From your DREME results page, send all of the motifs to TOMTOM to search against the [JASPAR FAM](jaspar.genereg.net) database.\n",
      "\n",
      "Can you identify any protein families that might bind each of your motifs? How convincing is the evidence from TOMTOM?"
     ]
    },
    {
     "cell_type": "heading",
     "level": 2,
     "metadata": {},
     "source": [
      "Locating motifs on a reference genome"
     ]
    },
    {
     "cell_type": "markdown",
     "metadata": {},
     "source": [
      "To visualise the locations of these putative binding sites on your contig, go back to your DREME results page and send all motifs to the [FIMO]() server. You will need to upload your contig in FASTA format.\n",
      "\n",
      "Download the results as GFF and view them in Artemis."
     ]
    },
    {
     "cell_type": "heading",
     "level": 2,
     "metadata": {},
     "source": [
      "Comparison to DNAseI footprinting data"
     ]
    },
    {
     "cell_type": "markdown",
     "metadata": {},
     "source": [
      "[Deoxyribonuclease I](http://en.wikipedia.org/wiki/DNase_I) can be used to cleave DNA at multiple sites. Any nucleotides that are protected by bound proteins are less likely to be exposed to the enzyme, so DNA sequencing of the ends of the resulting cleavage fragments can reveal protein \"[footprints](http://en.wikipedia.org/wiki/DNA_footprinting)\" as regions with significantly lower numbers of reads.\n",
      "\n",
      "The file\n",
      "````bash\n",
      "/bioinformatics/footprint/SRR314743.fastq\n",
      "````\n",
      "contains the results of [one such experiment on mitochondrial DNA](http://trace.ncbi.nlm.nih.gov/Traces/sra/?run=SRR314743) taken from [the study cited in practical 3](http://www.ncbi.nlm.nih.gov/pubmed/21854988).\n",
      "\n",
      "Process this file in the same way as the RNA-seq data from practical 3 to align the reads to your longest contig. \n",
      "\n",
      "To visualise the cleavage positions accurately, you will need to process the [SAM file](http://www.htslib.org/doc/sam.html) so that only the **first base** of the aligned sequence is included. To do this, write a script to read in the SAM file line by line and produce output as follows:\n",
      "\n",
      "- Only output the lines which have something other than '4' in the second column: these are the aligned reads.\n",
      "- Change column 6 to \"1M\" to indicate a single base.\n",
      "- Change columns 10 and 11 to include only the first position for the sequence and the quality score.\n",
      "- Remove column 12\n",
      "\n",
      "Having altered the SAM file in this way, you can produce the BAM, sorted BAM and index files as before.\n",
      "\n",
      "Now use Artemis to compare the aligned positions to the motif locations produced by FIMO.\n",
      "\n",
      "Are any of your predicted binding sites supported by the results of this DNA footprinting experiment?\n"
     ]
    },
    {
     "cell_type": "code",
     "collapsed": false,
     "input": [
      "import re \n",
      "\n",
      "read_file = open(\"SRR314743.sam\")\n",
      "out_file = open(\"SRR314743_out.sam\", \"w\")\n",
      "\n",
      "for line in read_file .readlines():\n",
      "    p = re.compile('\\t')\n",
      "    line_elem = p.split(line)\n",
      "    if line_elem[0] == '@SQ':\n",
      "        out_file.write(line)\n",
      "        continue\n",
      "    if line_elem[1] != '4':\n",
      "        line_elem[5] = '1M'\n",
      "        line_elem[9] = line_elem[9][1]\n",
      "        line_elem[10] = line_elem[10][1]\n",
      "        out = '\\t'.join(line_elem[0:11]) + '\\n'\n",
      "        out_file.write(out)\n",
      "        \n",
      "read_file.close() \n",
      "out_file.close()"
     ],
     "language": "python",
     "metadata": {},
     "outputs": [
      {
       "ename": "SyntaxError",
       "evalue": "invalid syntax (<ipython-input-37-7c8389bb6712>, line 12)",
       "output_type": "pyerr",
       "traceback": [
        "\u001b[1;36m  File \u001b[1;32m\"<ipython-input-37-7c8389bb6712>\"\u001b[1;36m, line \u001b[1;32m12\u001b[0m\n\u001b[1;33m    continue\u001b[0m\n\u001b[1;37m           ^\u001b[0m\n\u001b[1;31mSyntaxError\u001b[0m\u001b[1;31m:\u001b[0m invalid syntax\n"
       ]
      }
     ],
     "prompt_number": 37
    },
    {
     "cell_type": "heading",
     "level": 2,
     "metadata": {},
     "source": [
      "Cleaning up"
     ]
    },
    {
     "cell_type": "markdown",
     "metadata": {},
     "source": [
      "Keep these files together with the rest of your data by moving them to a directory inside your `homedir`:\n",
      "\n",
      "* `SRR314743_sorted.bam`\n",
      "* `SRR314743_sorted.bam.bai`\n",
      "* `fimo.gff`\n",
      "\n",
      "The total size of these files should not exceed 1.5G. \n",
      "\n",
      "The other files created today are not needed and you can safely leave them where they are."
     ]
    }
   ],
   "metadata": {}
  }
 ]
}